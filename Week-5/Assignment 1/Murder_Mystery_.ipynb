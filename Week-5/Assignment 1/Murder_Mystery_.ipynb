{
  "nbformat": 4,
  "nbformat_minor": 0,
  "metadata": {
    "colab": {
      "provenance": []
    },
    "kernelspec": {
      "name": "python3",
      "display_name": "Python 3"
    },
    "language_info": {
      "name": "python"
    }
  },
  "cells": [
    {
      "cell_type": "code",
      "execution_count": null,
      "metadata": {
        "id": "6dewISdL70fO"
      },
      "outputs": [],
      "source": [
        "import pandas as pd\n",
        "import sqlite3 as sql"
      ]
    },
    {
      "cell_type": "code",
      "source": [
        "conn = sql.connect('/content/sql-murder-mystery.db')"
      ],
      "metadata": {
        "id": "ehPD3fQ28tIX"
      },
      "execution_count": null,
      "outputs": []
    },
    {
      "cell_type": "code",
      "source": [
        "print(conn)"
      ],
      "metadata": {
        "colab": {
          "base_uri": "https://localhost:8080/"
        },
        "id": "zgpiEKhk8yJY",
        "outputId": "32474e09-1b0a-4ffa-ea2d-16dc52143a83"
      },
      "execution_count": null,
      "outputs": [
        {
          "output_type": "stream",
          "name": "stdout",
          "text": [
            "<sqlite3.Connection object at 0x7eabc260e740>\n"
          ]
        }
      ]
    },
    {
      "cell_type": "markdown",
      "source": [
        "1.  Retrieve Crime Scene Report:   \n",
        "Task: Run a query to retrieve the crime scene report for the murder that occurred on Jan.15, 2018, in SQL City. Gather all available details from the report.\n"
      ],
      "metadata": {
        "id": "IMZUDdQM8SCh"
      }
    },
    {
      "cell_type": "code",
      "source": [
        "# Define the SQL query\n",
        "query_1 = \"\"\"\n",
        "    SELECT *\n",
        "    FROM crime_scene_report\n",
        "    WHERE type = 'murder'\n",
        "    AND city = 'SQL City'\n",
        "    AND date = 20180115\n",
        "\"\"\""
      ],
      "metadata": {
        "id": "l9dNApXZ78ap"
      },
      "execution_count": null,
      "outputs": []
    },
    {
      "cell_type": "code",
      "source": [
        "# Use pandas to read the results of the query into a DataFrame\n",
        "crime_reports_df = pd.read_sql_query(query_1, conn)"
      ],
      "metadata": {
        "id": "fdLLfKtT86To"
      },
      "execution_count": null,
      "outputs": []
    },
    {
      "cell_type": "code",
      "source": [
        "# Print the retrieved crime reports DataFrame\n",
        "print(crime_reports_df)"
      ],
      "metadata": {
        "colab": {
          "base_uri": "https://localhost:8080/"
        },
        "id": "GN9q9su99Sag",
        "outputId": "b653c0f4-0d21-4ce9-d2e2-37d03c1110e5"
      },
      "execution_count": null,
      "outputs": [
        {
          "output_type": "stream",
          "name": "stdout",
          "text": [
            "       date    type                                        description  \\\n",
            "0  20180115  murder  Security footage shows that there were 2 witne...   \n",
            "\n",
            "       city  \n",
            "0  SQL City  \n"
          ]
        }
      ]
    },
    {
      "cell_type": "markdown",
      "source": [
        "2. Witness Personal Details:   \n",
        "Task: Check the personal details of witnesses involved in the case. Retrieve their names, addresses, and any other relevant information.\n"
      ],
      "metadata": {
        "id": "git6VeHJAKTV"
      }
    },
    {
      "cell_type": "code",
      "source": [
        "# Define the SQL query\n",
        "query_2= \"\"\"\n",
        "    SELECT *\n",
        "    FROM person\n",
        "    WHERE address_street_name = 'Northwestern Dr'\n",
        "    ORDER BY address_number DESC\n",
        "    LIMIT 1\n",
        "\"\"\""
      ],
      "metadata": {
        "id": "9LcgbRal_f1q"
      },
      "execution_count": null,
      "outputs": []
    },
    {
      "cell_type": "code",
      "source": [
        "# Use pandas to read the results of the query into a DataFrame\n",
        "result_df = pd.read_sql_query(query_2, conn)"
      ],
      "metadata": {
        "id": "3f6ncVF6BFBA"
      },
      "execution_count": null,
      "outputs": []
    },
    {
      "cell_type": "code",
      "source": [
        "# Print the retrieved result DataFrame\n",
        "print(result_df)"
      ],
      "metadata": {
        "colab": {
          "base_uri": "https://localhost:8080/"
        },
        "id": "-SFo_vSLBFnD",
        "outputId": "85cc7468-7b9a-4290-d7ed-93e70b73eb88"
      },
      "execution_count": null,
      "outputs": [
        {
          "output_type": "stream",
          "name": "stdout",
          "text": [
            "      id            name  license_id  address_number address_street_name  \\\n",
            "0  14887  Morty Schapiro      118009            4919     Northwestern Dr   \n",
            "\n",
            "         ssn  \n",
            "0  111564949  \n"
          ]
        }
      ]
    },
    {
      "cell_type": "markdown",
      "source": [
        "3. View Witness Interviews:    \n",
        "Task: Access the recorded interviews of witnesses conducted after the murder. Gather insights into their statements and potential clues.\n"
      ],
      "metadata": {
        "id": "dW3NaY2hCK2S"
      }
    },
    {
      "cell_type": "code",
      "source": [
        "# Define the SQL query\n",
        "query_3 = \"\"\"\n",
        "    SELECT *\n",
        "    FROM interview\n",
        "    WHERE person_id IN (14887, 16371)\n",
        "\"\"\""
      ],
      "metadata": {
        "id": "-RAxA_I-BXnJ"
      },
      "execution_count": null,
      "outputs": []
    },
    {
      "cell_type": "code",
      "source": [
        "# Use pandas to read the results of the query into a DataFrame\n",
        "interviews_df = pd.read_sql_query(query_3, conn)\n",
        "\n",
        "# Print the retrieved interviews DataFrame\n",
        "print(interviews_df)\n"
      ],
      "metadata": {
        "colab": {
          "base_uri": "https://localhost:8080/"
        },
        "id": "Md7mstSZCllj",
        "outputId": "a0ddf6bf-56c8-48ba-ca9f-b69d777c59e0"
      },
      "execution_count": null,
      "outputs": [
        {
          "output_type": "stream",
          "name": "stdout",
          "text": [
            "   person_id                                         transcript\n",
            "0      14887  I heard a gunshot and then saw a man run out. ...\n",
            "1      16371  I saw the murder happen, and I recognized the ...\n"
          ]
        }
      ]
    },
    {
      "cell_type": "markdown",
      "source": [
        "4. Check Gym Database:    \n",
        "Task: Investigate the gym database using details obtained from the crime scene report and witness interviews. Look for any gym-related information that might be relevant.\n"
      ],
      "metadata": {
        "id": "vJBZb8txEf61"
      }
    },
    {
      "cell_type": "code",
      "source": [
        "\n",
        "# Define the SQL query\n",
        "query_4 = \"\"\"\n",
        "    SELECT p.*, gfn.membership_start_date, gfn.membership_status\n",
        "    FROM person AS p\n",
        "    INNER JOIN drivers_license AS dl ON dl.id = p.license_id\n",
        "    INNER JOIN get_fit_now_member AS gfn ON p.id = gfn.person_id\n",
        "    INNER JOIN get_fit_now_check_in AS gfc ON gfc.membership_id = gfn.id\n",
        "    WHERE plate_number LIKE '%H42W%'\n",
        "    AND gender = 'male'\n",
        "    AND membership_status = 'gold'\n",
        "    AND gfn.id LIKE '48Z%'\n",
        "    AND check_in_date = 20180109\n",
        "\"\"\""
      ],
      "metadata": {
        "id": "oZfDynN4CoLs"
      },
      "execution_count": null,
      "outputs": []
    },
    {
      "cell_type": "code",
      "source": [
        "# Use pandas to read the results of the query into a DataFrame\n",
        "result_df = pd.read_sql_query(query_4, conn)\n",
        "\n",
        "# Print the retrieved result DataFrame\n",
        "print(result_df)"
      ],
      "metadata": {
        "colab": {
          "base_uri": "https://localhost:8080/"
        },
        "id": "kIoLIfm_E8yh",
        "outputId": "346aae61-f720-4bb7-9b47-293dff0358c4"
      },
      "execution_count": null,
      "outputs": [
        {
          "output_type": "stream",
          "name": "stdout",
          "text": [
            "      id           name  license_id  address_number    address_street_name  \\\n",
            "0  67318  Jeremy Bowers      423327             530  Washington Pl, Apt 3A   \n",
            "\n",
            "         ssn  membership_start_date membership_status  \n",
            "0  871539279               20160101              gold  \n"
          ]
        }
      ]
    },
    {
      "cell_type": "markdown",
      "source": [
        "5. Check Car Details:    \n",
        "Task: Examine the car details associated with the crime scene. Retrieve information about the vehicles present during the incident.\n"
      ],
      "metadata": {
        "id": "h4hLuDXTFXzL"
      }
    },
    {
      "cell_type": "code",
      "source": [
        "query_5 = \"\"\"\n",
        "    SELECT *\n",
        "    FROM drivers_license\n",
        "    WHERE plate_number = '0H42W2'\n",
        "\"\"\""
      ],
      "metadata": {
        "id": "VVILGAQFFJAM"
      },
      "execution_count": null,
      "outputs": []
    },
    {
      "cell_type": "code",
      "source": [
        "# Use pandas to read the results of the query into a DataFrame\n",
        "result_df = pd.read_sql_query(query_5, conn)\n",
        "\n",
        "# Print the retrieved result DataFrame\n",
        "print(result_df)"
      ],
      "metadata": {
        "colab": {
          "base_uri": "https://localhost:8080/"
        },
        "id": "RTv5HOHaMBlc",
        "outputId": "f6a7e3bf-1b28-42c1-9d47-d9f3fc9cd4c8"
      },
      "execution_count": null,
      "outputs": [
        {
          "output_type": "stream",
          "name": "stdout",
          "text": [
            "       id  age  height eye_color hair_color gender plate_number   car_make  \\\n",
            "0  423327   30      70     brown      brown   male       0H42W2  Chevrolet   \n",
            "\n",
            "  car_model  \n",
            "0  Spark LS  \n"
          ]
        }
      ]
    },
    {
      "cell_type": "markdown",
      "source": [
        "6. Personal Details:    \n",
        "Task: Identify and collect personal details mentioned in the previous query. This includes names, addresses, and any additional details.\n"
      ],
      "metadata": {
        "id": "KNDetdCeM6n4"
      }
    },
    {
      "cell_type": "code",
      "source": [
        "query_6 = \"\"\"\n",
        "    SELECT *\n",
        "    FROM person\n",
        "    WHERE license_id = '423327'\n",
        "\"\"\""
      ],
      "metadata": {
        "id": "dmZBTW8WMrKz"
      },
      "execution_count": null,
      "outputs": []
    },
    {
      "cell_type": "code",
      "source": [
        "# Use pandas to read the results of the query into a DataFrame\n",
        "result_df = pd.read_sql_query(query_6, conn)\n",
        "\n",
        "# Print the retrieved result DataFrame\n",
        "print(result_df)"
      ],
      "metadata": {
        "colab": {
          "base_uri": "https://localhost:8080/"
        },
        "id": "FQrxyOa1OHAN",
        "outputId": "3fe20927-4059-4a2f-c6e6-10dee8cadf65"
      },
      "execution_count": null,
      "outputs": [
        {
          "output_type": "stream",
          "name": "stdout",
          "text": [
            "      id           name  license_id  address_number    address_street_name  \\\n",
            "0  67318  Jeremy Bowers      423327             530  Washington Pl, Apt 3A   \n",
            "\n",
            "         ssn  \n",
            "0  871539279  \n"
          ]
        }
      ]
    },
    {
      "cell_type": "markdown",
      "source": [
        "7. Membership Status at the Gym:    \n",
        "Task: Determine who is identified in the previous query as a member of the gym. Utilize the gym database to confirm their membership status.\n"
      ],
      "metadata": {
        "id": "qTjw_L0mRAgA"
      }
    },
    {
      "cell_type": "code",
      "source": [
        "# Define the SQL query to retrieve membership status at the gym for the person identified in the previous query\n",
        "query_7 = \"\"\"\n",
        "    SELECT p.name, p.id AS person_id, gfn.membership_status\n",
        "    FROM person AS p\n",
        "    INNER JOIN get_fit_now_member AS gfn ON p.id = gfn.person_id\n",
        "    WHERE p.license_id = '423327'\n",
        "\"\"\"\n"
      ],
      "metadata": {
        "id": "_HRLgfxVOJTJ"
      },
      "execution_count": null,
      "outputs": []
    },
    {
      "cell_type": "code",
      "source": [
        "# Use pandas to read the results of the query into a DataFrame\n",
        "result_df_7 = pd.read_sql_query(query_7, conn)\n",
        "\n",
        "# Print the retrieved result DataFrame\n",
        "print(result_df_7)"
      ],
      "metadata": {
        "colab": {
          "base_uri": "https://localhost:8080/"
        },
        "id": "kmpfeQJwSctq",
        "outputId": "d9681c22-cbf3-4e25-b87c-350e412b703f"
      },
      "execution_count": null,
      "outputs": [
        {
          "output_type": "stream",
          "name": "stdout",
          "text": [
            "            name  person_id membership_status\n",
            "0  Jeremy Bowers      67318              gold\n"
          ]
        }
      ]
    },
    {
      "cell_type": "code",
      "source": [
        "query='''\n",
        "SELECT *\n",
        "FROM interview\n",
        "WHERE person_id = 67318\n",
        "'''"
      ],
      "metadata": {
        "id": "8yPMjKfpSkJm"
      },
      "execution_count": null,
      "outputs": []
    },
    {
      "cell_type": "code",
      "source": [
        "# Use pandas to read the results of the query into a DataFrame\n",
        "result_df_7 = pd.read_sql_query(query, conn)\n",
        "\n",
        "# Print the retrieved result DataFrame\n",
        "print(result_df_7)"
      ],
      "metadata": {
        "colab": {
          "base_uri": "https://localhost:8080/"
        },
        "id": "A7O9E_cLTFyC",
        "outputId": "1170d51f-49a0-48c5-e6c3-f3a3695e7704"
      },
      "execution_count": null,
      "outputs": [
        {
          "output_type": "stream",
          "name": "stdout",
          "text": [
            "   person_id                                         transcript\n",
            "0      67318  I was hired by a woman with a lot of money. I ...\n"
          ]
        }
      ]
    },
    {
      "cell_type": "markdown",
      "source": [
        "##Finally, based on the available evidence, there is no conclusive indication that Jeremy Bowers is the murderer, and there is also no conclusive indication that Miranda Priestly is the mastermind behind the crime. Further investigation is necessary to establish any potential involvement or connections to the case."
      ],
      "metadata": {
        "id": "vJSLsCn9UxkI"
      }
    }
  ]
}